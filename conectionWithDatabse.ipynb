{
 "cells": [
  {
   "cell_type": "code",
   "execution_count": 113,
   "metadata": {},
   "outputs": [],
   "source": [
    "import psycopg2\n",
    "import random"
   ]
  },
  {
   "cell_type": "code",
   "execution_count": null,
   "metadata": {},
   "outputs": [],
   "source": [
    "hostname = 'localhost'\n",
    "username = 'postgres'\n",
    "database = 'postgres'\n",
    "pwd = 'teste_12' \n",
    "port_id = \"1712\"\n",
    "conn = None\n",
    "cur = None "
   ]
  },
  {
   "cell_type": "markdown",
   "metadata": {},
   "source": [
    "INSERT DATA INTO TABLE"
   ]
  },
  {
   "cell_type": "code",
   "execution_count": 115,
   "metadata": {},
   "outputs": [
    {
     "name": "stdout",
     "output_type": "stream",
     "text": [
      "finally\n"
     ]
    }
   ],
   "source": [
    "try:\n",
    "    conn = psycopg2.connect(host=hostname,database=database,user=username,password=pwd,port=port_id)\n",
    "    cur = conn.cursor()\n",
    "    create_scripty = '''CREATE TABLE students(id numeric NOT NULL, name varchar,age integer,average numeric, PRIMARY KEY(id))'''\n",
    "    cur.execute(create_scripty)\n",
    "    conn.commit()\n",
    "    insert_scripty = 'INSERT INTO students(id,name,age,average) VALUES(%s,%s,%s,%s)'\n",
    "    value=[(1,\"Pedro Lemos\",17,8.5),\n",
    "           (2,\"Ingrid Violeta\",17,9.5),\n",
    "           (3,\"Jorge Barretos\",19,7.5),\n",
    "           (4,\"Pedro Chagas\",16,6.5),\n",
    "           (5,\"Erica Guiantes\",20,8.5),\n",
    "            (6,\"João Sobral\",17,8.5),\n",
    "           (7,\"Liana Rosas\",19,9.5),\n",
    "           (8,\"Jorge Guilherme Junior\",20,10),\n",
    "           (9,\"Pedro Freitas\",18,8.5),\n",
    "           (10,\"Helana Oliveira\",17,8.5)]\n",
    "    cur.executemany(insert_scripty,value)\n",
    "    conn.commit()\n",
    "except Exception as error:\n",
    "    error\n",
    "    print(error)\n",
    "    print('error')\n",
    "finally:\n",
    "    print('finally')\n",
    "    if cur is not None:\n",
    "        cur.close()\n",
    "    if conn is not None:\n",
    "        conn.close()"
   ]
  },
  {
   "cell_type": "markdown",
   "metadata": {},
   "source": [
    "Create a Table"
   ]
  },
  {
   "cell_type": "code",
   "execution_count": 116,
   "metadata": {},
   "outputs": [
    {
     "name": "stdout",
     "output_type": "stream",
     "text": [
      "finally\n"
     ]
    }
   ],
   "source": [
    "try:\n",
    "    conn = psycopg2.connect(host=hostname,user=username,password=pwd,database=database,port=port_id)\n",
    "    cur = conn.cursor()\n",
    "    create_scripty= '''CREATE TABLE IF NOT EXISTS notes(\n",
    "        note_id numeric PRIMARY KEY, \n",
    "        Chemical_1 numeric,\n",
    "        Chemical_2 numeric, \n",
    "        Physics_1 numeric, \n",
    "        Physics_2 numeric, \n",
    "        Matematic_1 numeric,\n",
    "        Matematic_2 numeric,\n",
    "        History_1 numeric,\n",
    "        History_2 numeric,\n",
    "        Portuguese_1 numeric,\n",
    "        Portuguese_2 numeric,\n",
    "        FOREIGN KEY(note_id) REFERENCES students(id) ON DELETE CASCADE )'''\n",
    "    cur.execute(create_scripty)\n",
    "    conn.commit()\n",
    "    insert_scripty='INSERT INTO notes(note_id, Chemical_1,Chemical_2, Physics_1, Physics_2, Matematic_1,Matematic_2,History_1,History_2,Portuguese_1,Portuguese_2) VALUES(%s,%s,%s,%s,%s,%s,%s,%s,%s,%s,%s)'\n",
    "    value = [(1,8.9,7.7,6.4,8.7,5.6,9.0,8.7,6.5,7.7,6.3),\n",
    "             (2,6.9,7.7,6.4,4.7,5.6,9.0,6.6,6.5,7.7,6.3),\n",
    "             (3,5.3,7.8,6.8,7.7,9.6,9.0,4.7,6.5,7.1,6.3),\n",
    "             (4,8.9,7.7,6.4,8.7,5.6,9.0,8.7,6.5,7.7,6.3),\n",
    "             (5,3.9,7.4,6.4,8.7,5.6,9.0,9.7,7.8,9.7,6.3),\n",
    "             (6,8.9,7.7,6.4,8.7,5.6,9.0,8.7,6.5,7.7,6.3),\n",
    "             (7,8.3,7.8,6.4,6.7,6.9,9.0,8.7,6.5,10.0,6.3),\n",
    "             (8,7.9,7.7,6.4,7.7,5.6,9.0,8.7,6.5,7.7,6.3),\n",
    "             (9,5.9,7.7,5.4,8.7,5.6,9.0,8.7,6.5,7.7,6.3),\n",
    "             (10,9.9,7.7,6.4,9.7,5.6,9.0,8.7,6.5,7.7,6.3)]\n",
    "    cur.executemany(insert_scripty,value)\n",
    "    conn.commit()\n",
    "except Exception as erro:\n",
    "    print(error)\n",
    "finally:\n",
    "    print('finally')\n",
    "    if cur is not None:\n",
    "        cur.close()\n",
    "    if conn is not None:\n",
    "        conn.close()"
   ]
  },
  {
   "cell_type": "code",
   "execution_count": 117,
   "metadata": {},
   "outputs": [
    {
     "name": "stdout",
     "output_type": "stream",
     "text": [
      "finally\n"
     ]
    }
   ],
   "source": [
    "try:\n",
    "    conn = psycopg2.connect(host=hostname,database=database,password=pwd,port=port_id,user=username)\n",
    "    cur = conn.cursor()\n",
    "    create_scripty = '''CREATE TABLE notes_avarage(notes_avergae_id numeric PRIMARY KEY,Chemical_average numeric,Physics_average numeric,Matematic_average numeric,History_average numeric,Portuguese_average numeric, FOREIGN KEY(notes_avergae_id) REFERENCES students(id) ON DELETE CASCADE)'''\n",
    "    cur.execute(create_scripty)\n",
    "    conn.commit()\n",
    "except Exception as erro:\n",
    "    print(error)\n",
    "finally:\n",
    "    print('finally')\n",
    "    if cur is not None:\n",
    "        cur.close()\n",
    "    if conn is not None:\n",
    "        conn.close()\n"
   ]
  },
  {
   "cell_type": "markdown",
   "metadata": {},
   "source": [
    "SELECT "
   ]
  },
  {
   "cell_type": "code",
   "execution_count": 118,
   "metadata": {},
   "outputs": [
    {
     "name": "stdout",
     "output_type": "stream",
     "text": [
      "(Decimal('1'), 'Pedro Lemos', 17, Decimal('8.5'))\n",
      "(Decimal('2'), 'Ingrid Violeta', 17, Decimal('9.5'))\n",
      "(Decimal('3'), 'Jorge Barretos', 19, Decimal('7.5'))\n",
      "(Decimal('4'), 'Pedro Chagas', 16, Decimal('6.5'))\n",
      "(Decimal('5'), 'Erica Guiantes', 20, Decimal('8.5'))\n",
      "(Decimal('6'), 'João Sobral', 17, Decimal('8.5'))\n",
      "(Decimal('7'), 'Liana Rosas', 19, Decimal('9.5'))\n",
      "(Decimal('8'), 'Jorge Guilherme Junior', 20, Decimal('10'))\n",
      "(Decimal('9'), 'Pedro Freitas', 18, Decimal('8.5'))\n",
      "(Decimal('10'), 'Helana Oliveira', 17, Decimal('8.5'))\n",
      "[(Decimal('1'), 'Pedro Lemos', 17, Decimal('8.5')), (Decimal('2'), 'Ingrid Violeta', 17, Decimal('9.5')), (Decimal('3'), 'Jorge Barretos', 19, Decimal('7.5')), (Decimal('4'), 'Pedro Chagas', 16, Decimal('6.5')), (Decimal('5'), 'Erica Guiantes', 20, Decimal('8.5')), (Decimal('6'), 'João Sobral', 17, Decimal('8.5')), (Decimal('7'), 'Liana Rosas', 19, Decimal('9.5')), (Decimal('8'), 'Jorge Guilherme Junior', 20, Decimal('10')), (Decimal('9'), 'Pedro Freitas', 18, Decimal('8.5')), (Decimal('10'), 'Helana Oliveira', 17, Decimal('8.5'))]\n",
      "finally\n"
     ]
    }
   ],
   "source": [
    "try:\n",
    "    conn = psycopg2.connect(host=hostname,database=database,user=username,port=port_id,password=pwd)\n",
    "    cur = conn.cursor()\n",
    "    select_scripty = '''SELECT * FROM public.students'''\n",
    "    cur.execute(select_scripty)\n",
    "    records = cur.fetchall()\n",
    "    for row in records:\n",
    "        print(row)\n",
    "    \n",
    "    print(records)\n",
    "    conn.commit()\n",
    "except Exception as error:\n",
    "    print(error)\n",
    "finally:\n",
    "    if cur is not None:\n",
    "        cur.close()\n",
    "    if conn is not None:\n",
    "        conn.close()\n",
    "    print('finally')"
   ]
  },
  {
   "cell_type": "markdown",
   "metadata": {},
   "source": [
    "UPDATE"
   ]
  },
  {
   "cell_type": "code",
   "execution_count": null,
   "metadata": {},
   "outputs": [],
   "source": []
  }
 ],
 "metadata": {
  "kernelspec": {
   "display_name": ".venv",
   "language": "python",
   "name": "python3"
  },
  "language_info": {
   "codemirror_mode": {
    "name": "ipython",
    "version": 3
   },
   "file_extension": ".py",
   "mimetype": "text/x-python",
   "name": "python",
   "nbconvert_exporter": "python",
   "pygments_lexer": "ipython3",
   "version": "3.12.7"
  }
 },
 "nbformat": 4,
 "nbformat_minor": 2
}
