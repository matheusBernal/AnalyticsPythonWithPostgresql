{
 "cells": [
  {
   "cell_type": "code",
   "execution_count": 85,
   "metadata": {},
   "outputs": [],
   "source": [
    "import psycopg2"
   ]
  },
  {
   "cell_type": "code",
   "execution_count": 86,
   "metadata": {},
   "outputs": [],
   "source": [
    "hostname = 'localhost'\n",
    "username = 'postgres'\n",
    "database = 'postgres'\n",
    "pwd = '171298' \n",
    "port_id = \"1712\"\n",
    "conn = None\n",
    "cur = None "
   ]
  },
  {
   "cell_type": "markdown",
   "metadata": {},
   "source": [
    "INSERT"
   ]
  },
  {
   "cell_type": "code",
   "execution_count": null,
   "metadata": {},
   "outputs": [
    {
     "name": "stdout",
     "output_type": "stream",
     "text": [
      "finally\n"
     ]
    }
   ],
   "source": [
    "try:\n",
    "    conn = psycopg2.connect(host=hostname,database=database,user=username,password=pwd,port=port_id)\n",
    "    cur = conn.cursor()\n",
    "    insert_scripty = 'INSERT INTO students(id,name,age,average) VALUES(%s,%s,%s,%s)'\n",
    "    value=[(6,\"João Sobral\",17,8.5),\n",
    "           (7,\"Liana Rosas\",19,9.5),\n",
    "           (8,\"Jorge Guilherme Junior\",20,10),\n",
    "           (9,\"Pedro Freitas\",18,8.5),\n",
    "           (10,\"Helana Oliveira\",17,8.5)]\n",
    "    cur.executemany(insert_scripty,value)\n",
    "    conn.commit()\n",
    "except Exception as error:\n",
    "    error\n",
    "    print(error)\n",
    "    print('error')\n",
    "finally:\n",
    "    print('finally')\n",
    "    if cur is not None:\n",
    "        cur.close()\n",
    "    if conn is not None:\n",
    "        conn.close()"
   ]
  },
  {
   "cell_type": "markdown",
   "metadata": {},
   "source": [
    "Create a Table"
   ]
  },
  {
   "cell_type": "code",
   "execution_count": null,
   "metadata": {},
   "outputs": [
    {
     "name": "stdout",
     "output_type": "stream",
     "text": [
      "finally\n"
     ]
    }
   ],
   "source": [
    "try:\n",
    "    conn = psycopg2.connect(host=hostname,user=username,password=pwd,database=database,port=port_id)\n",
    "    cur = conn.cursor()\n",
    "    create_scripty= '''CREATE TABLE IF NOT EXISTS notes(\n",
    "        id numeric PRIMARY KEY, \n",
    "        Chemical_1 numeric,\n",
    "        Chemical_2 numeric, \n",
    "        Physics_1 numeric, \n",
    "        Physics_2 numeric, \n",
    "        Matematic_1 numeric,\n",
    "        Matematic_2 numeric,\n",
    "        History_1 numeric,\n",
    "        History_2 numeric,\n",
    "        Portuguese_1 numeric,\n",
    "        Portuguese_2 numeric )'''\n",
    "    cur.execute(create_scripty)\n",
    "    conn.commit()\n",
    "    insert_scripty='INERT INTO notes(id, Chemical_1,Chemical_2, Physics_1, Physics_2, Matematic_1,Matematic_2,History_1,History_2,Portuguese_1,Portuguese_2) VALUES(%s,%s,%s,%s,%s,%s,%s,%s,%s,%s,%s)'\n",
    "    value = [(1,8.9,7.7,6.4,8.7,5.6,9.0,)]\n",
    "except Exception as erro:\n",
    "    print(error)\n",
    "finally:\n",
    "    print('finally')\n",
    "    if cur is not None:\n",
    "        cur.close()\n",
    "    if conn is not None:\n",
    "        conn.close()"
   ]
  }
 ],
 "metadata": {
  "kernelspec": {
   "display_name": ".venv",
   "language": "python",
   "name": "python3"
  },
  "language_info": {
   "codemirror_mode": {
    "name": "ipython",
    "version": 3
   },
   "file_extension": ".py",
   "mimetype": "text/x-python",
   "name": "python",
   "nbconvert_exporter": "python",
   "pygments_lexer": "ipython3",
   "version": "3.12.7"
  }
 },
 "nbformat": 4,
 "nbformat_minor": 2
}
