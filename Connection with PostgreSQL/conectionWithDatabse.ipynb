{
 "cells": [
  {
   "cell_type": "code",
   "execution_count": 1,
   "metadata": {},
   "outputs": [],
   "source": [
    "import psycopg2"
   ]
  },
  {
   "cell_type": "code",
   "execution_count": null,
   "metadata": {},
   "outputs": [],
   "source": [
    "hostname = 'localhost'\n",
    "username = 'postgres'\n",
    "database = 'postgres'\n",
    "pwd = '171298' \n",
    "port_id = \"test_12\"\n",
    "conn = None\n",
    "cur = None "
   ]
  },
  {
   "cell_type": "markdown",
   "metadata": {},
   "source": [
    "INSERT DATA INTO TABLE"
   ]
  },
  {
   "cell_type": "code",
   "execution_count": 3,
   "metadata": {},
   "outputs": [
    {
     "name": "stdout",
     "output_type": "stream",
     "text": [
      "finally\n"
     ]
    }
   ],
   "source": [
    "try:\n",
    "    conn = psycopg2.connect(host=hostname,database=database,user=username,password=pwd,port=port_id)\n",
    "    cur = conn.cursor()\n",
    "    create_scripty = '''CREATE TABLE students(id numeric NOT NULL, name varchar,age integer,average numeric, PRIMARY KEY(id))'''\n",
    "    cur.execute(create_scripty)\n",
    "    conn.commit()\n",
    "    insert_scripty = 'INSERT INTO students(id,name,age,average) VALUES(%s,%s,%s,%s)'\n",
    "    value=[(1,\"Pedro Lemos\",17,0.0),\n",
    "           (2,\"Ingrid Violeta\",17,0.0),\n",
    "           (3,\"Jorge Barretos\",19,0.0),\n",
    "           (4,\"Pedro Chagas\",16,0.0),\n",
    "           (5,\"Erica Guiantes\",20,0.0),\n",
    "            (6,\"João Sobral\",17,0.0),\n",
    "           (7,\"Liana Rosas\",19,0.0),\n",
    "           (8,\"Jorge Guilherme Junior\",20,0.0),\n",
    "           (9,\"Pedro Freitas\",18,0.0),\n",
    "           (10,\"Helana Oliveira\",17,0.0),\n",
    "           (11,\"Helana Oliveira\",27,10.5)]\n",
    "    cur.executemany(insert_scripty,value)\n",
    "    conn.commit()\n",
    "except Exception as error:\n",
    "    error\n",
    "    print(error)\n",
    "    print('error')\n",
    "finally:\n",
    "    print('finally')\n",
    "    if cur is not None:\n",
    "        cur.close()\n",
    "    if conn is not None:\n",
    "        conn.close()"
   ]
  },
  {
   "cell_type": "markdown",
   "metadata": {},
   "source": [
    "Create a Table"
   ]
  },
  {
   "cell_type": "code",
   "execution_count": 4,
   "metadata": {},
   "outputs": [
    {
     "name": "stdout",
     "output_type": "stream",
     "text": [
      "finally\n"
     ]
    }
   ],
   "source": [
    "try:\n",
    "    conn = psycopg2.connect(host=hostname,user=username,password=pwd,database=database,port=port_id)\n",
    "    cur = conn.cursor()\n",
    "    create_scripty= '''CREATE TABLE IF NOT EXISTS notes(\n",
    "        note_id numeric PRIMARY KEY, \n",
    "        Chemical_1 numeric,\n",
    "        Chemical_2 numeric, \n",
    "        Physics_1 numeric, \n",
    "        Physics_2 numeric, \n",
    "        Matematic_1 numeric,\n",
    "        Matematic_2 numeric,\n",
    "        History_1 numeric,\n",
    "        History_2 numeric,\n",
    "        Portuguese_1 numeric,\n",
    "        Portuguese_2 numeric,\n",
    "        FOREIGN KEY(note_id) REFERENCES students(id) ON DELETE CASCADE )'''\n",
    "    cur.execute(create_scripty)\n",
    "    conn.commit()\n",
    "    insert_scripty='INSERT INTO notes(note_id, Chemical_1,Chemical_2, Physics_1, Physics_2, Matematic_1,Matematic_2,History_1,History_2,Portuguese_1,Portuguese_2) VALUES(%s,%s,%s,%s,%s,%s,%s,%s,%s,%s,%s)'\n",
    "    value = [(1,8.9,7.7,6.4,8.7,5.6,9.0,8.7,6.5,7.7,6.3),\n",
    "             (2,6.9,7.7,6.4,4.7,5.6,9.0,6.6,6.5,7.7,6.3),\n",
    "             (3,5.3,7.8,6.8,7.7,9.6,9.0,4.7,6.5,7.1,6.3),\n",
    "             (4,8.9,7.7,6.4,8.7,5.6,7.0,8.7,6.5,7.7,6.3),\n",
    "             (5,3.9,7.4,6.4,5.7,5.6,8.0,9.7,7.8,9.7,6.3),\n",
    "             (6,8.9,7.7,6.4,3.7,5.6,9.0,8.7,6.5,7.7,6.3),\n",
    "             (7,8.3,7.8,6.4,6.7,6.9,5.0,9.7,6.5,10.0,6.3),\n",
    "             (8,7.9,7.7,6.4,7.7,5.6,9.0,8.7,6.5,7.7,6.3),\n",
    "             (9,5.9,7.7,5.4,8.7,5.6,6.0,2.7,6.5,7.7,6.3),\n",
    "             (10,9.9,7.7,6.4,9.7,5.6,9.0,8.7,6.5,7.7,6.3)]\n",
    "    cur.executemany(insert_scripty,value)\n",
    "    conn.commit()\n",
    "except Exception as erro:\n",
    "    print(error)\n",
    "finally:\n",
    "    print('finally')\n",
    "    if cur is not None:\n",
    "        cur.close()\n",
    "    if conn is not None:\n",
    "        conn.close()"
   ]
  },
  {
   "cell_type": "code",
   "execution_count": 5,
   "metadata": {},
   "outputs": [
    {
     "name": "stdout",
     "output_type": "stream",
     "text": [
      "finally\n"
     ]
    }
   ],
   "source": [
    "try:\n",
    "    conn = psycopg2.connect(host=hostname,database=database,password=pwd,port=port_id,user=username)\n",
    "    cur = conn.cursor()\n",
    "    create_scripty = '''CREATE TABLE notes_average(\n",
    "    notes_average_id numeric PRIMARY KEY,\n",
    "    Chemical_average numeric,\n",
    "    Physics_average numeric,\n",
    "    Matematic_average numeric,\n",
    "    History_average numeric,\n",
    "    Portuguese_average numeric, \n",
    "    FOREIGN KEY(notes_average_id) REFERENCES students(id) ON DELETE CASCADE)'''\n",
    "    cur.execute(create_scripty)\n",
    "    conn.commit()\n",
    "except Exception as erro:\n",
    "    print(error)\n",
    "finally:\n",
    "    print('finally')\n",
    "    if cur is not None:\n",
    "        cur.close()\n",
    "    if conn is not None:\n",
    "        conn.close()\n"
   ]
  },
  {
   "cell_type": "markdown",
   "metadata": {},
   "source": [
    "SELECT "
   ]
  },
  {
   "cell_type": "code",
   "execution_count": 6,
   "metadata": {},
   "outputs": [
    {
     "name": "stdout",
     "output_type": "stream",
     "text": [
      "(Decimal('1'), 'Pedro Lemos', 17, Decimal('0.0'))\n",
      "(Decimal('2'), 'Ingrid Violeta', 17, Decimal('0.0'))\n",
      "(Decimal('3'), 'Jorge Barretos', 19, Decimal('0.0'))\n",
      "(Decimal('4'), 'Pedro Chagas', 16, Decimal('0.0'))\n",
      "(Decimal('5'), 'Erica Guiantes', 20, Decimal('0.0'))\n",
      "(Decimal('6'), 'João Sobral', 17, Decimal('0.0'))\n",
      "(Decimal('7'), 'Liana Rosas', 19, Decimal('0.0'))\n",
      "(Decimal('8'), 'Jorge Guilherme Junior', 20, Decimal('0.0'))\n",
      "(Decimal('9'), 'Pedro Freitas', 18, Decimal('0.0'))\n",
      "(Decimal('10'), 'Helana Oliveira', 17, Decimal('0.0'))\n",
      "(Decimal('11'), 'Helana Oliveira', 27, Decimal('10.5'))\n",
      "[(Decimal('1'), 'Pedro Lemos', 17, Decimal('0.0')), (Decimal('2'), 'Ingrid Violeta', 17, Decimal('0.0')), (Decimal('3'), 'Jorge Barretos', 19, Decimal('0.0')), (Decimal('4'), 'Pedro Chagas', 16, Decimal('0.0')), (Decimal('5'), 'Erica Guiantes', 20, Decimal('0.0')), (Decimal('6'), 'João Sobral', 17, Decimal('0.0')), (Decimal('7'), 'Liana Rosas', 19, Decimal('0.0')), (Decimal('8'), 'Jorge Guilherme Junior', 20, Decimal('0.0')), (Decimal('9'), 'Pedro Freitas', 18, Decimal('0.0')), (Decimal('10'), 'Helana Oliveira', 17, Decimal('0.0')), (Decimal('11'), 'Helana Oliveira', 27, Decimal('10.5'))]\n",
      "finally\n"
     ]
    }
   ],
   "source": [
    "try:\n",
    "    conn = psycopg2.connect(host=hostname,database=database,user=username,port=port_id,password=pwd)\n",
    "    cur = conn.cursor()\n",
    "    select_scripty = '''SELECT * FROM public.students'''\n",
    "    cur.execute(select_scripty)\n",
    "    records = cur.fetchall()\n",
    "    for row in records:\n",
    "        print(row)\n",
    "    \n",
    "    print(records)\n",
    "    conn.commit()\n",
    "except Exception as error:\n",
    "    print(error)\n",
    "finally:\n",
    "    if cur is not None:\n",
    "        cur.close()\n",
    "    if conn is not None:\n",
    "        conn.close()\n",
    "    print('finally')"
   ]
  },
  {
   "cell_type": "markdown",
   "metadata": {},
   "source": [
    "DELETE"
   ]
  },
  {
   "cell_type": "code",
   "execution_count": 7,
   "metadata": {},
   "outputs": [
    {
     "name": "stdout",
     "output_type": "stream",
     "text": [
      "finally\n"
     ]
    }
   ],
   "source": [
    "try:\n",
    "    conn = psycopg2.connect(host=hostname,user=username,database=database,password=pwd,port=port_id)\n",
    "    cur = conn.cursor()\n",
    "    update_scripty = '''DELETE from students WHERE id =11'''\n",
    "    cur.execute(update_scripty)\n",
    "    conn.commit()\n",
    "except Exception as erro:\n",
    "    print(error)\n",
    "finally:\n",
    "    if cur is not None:\n",
    "        cur.close()\n",
    "    if conn is not None:\n",
    "        conn.close()\n",
    "    print('finally')"
   ]
  },
  {
   "cell_type": "markdown",
   "metadata": {},
   "source": [
    "UPDATE"
   ]
  },
  {
   "cell_type": "code",
   "execution_count": 8,
   "metadata": {},
   "outputs": [
    {
     "name": "stdout",
     "output_type": "stream",
     "text": [
      "finally\n"
     ]
    }
   ],
   "source": [
    "try:\n",
    "    conn = psycopg2.connect(host=hostname, user = username, database=database, password = pwd, port=port_id)\n",
    "    cur = conn.cursor()\n",
    "    update_scripty = '''UPDATE students SET id = 4, \n",
    "    name = 'Pedro Chagas', \n",
    "    age=19,\n",
    "    average=0.0 WHERE id = 4'''\n",
    "    cur.execute(update_scripty)\n",
    "    conn.commit()\n",
    "except Exception as error:\n",
    "    print(error)\n",
    "finally:\n",
    "    if cur is not None:\n",
    "        cur.close()\n",
    "    if conn is not None:\n",
    "        conn.close()\n",
    "    print('finally')"
   ]
  },
  {
   "cell_type": "markdown",
   "metadata": {},
   "source": [
    "INSERT VALUES FROM NOTES_AVERAGE AND UPDATE COLUMN AVERAGE FROM STUDENTS"
   ]
  },
  {
   "cell_type": "code",
   "execution_count": 9,
   "metadata": {},
   "outputs": [],
   "source": [
    "import pandas as pd\n",
    "from sqlalchemy import create_engine\n",
    "import numpy as np\n",
    "\n",
    "engine = create_engine(f'postgresql+psycopg2://{username}:{pwd}@{hostname}:{port_id}/{database}')\n",
    "\n",
    "query = 'SELECT * FROM notes'\n",
    "df = pd.read_sql(query, engine)\n"
   ]
  },
  {
   "cell_type": "code",
   "execution_count": 10,
   "metadata": {},
   "outputs": [
    {
     "data": {
      "text/html": [
       "<div>\n",
       "<style scoped>\n",
       "    .dataframe tbody tr th:only-of-type {\n",
       "        vertical-align: middle;\n",
       "    }\n",
       "\n",
       "    .dataframe tbody tr th {\n",
       "        vertical-align: top;\n",
       "    }\n",
       "\n",
       "    .dataframe thead th {\n",
       "        text-align: right;\n",
       "    }\n",
       "</style>\n",
       "<table border=\"1\" class=\"dataframe\">\n",
       "  <thead>\n",
       "    <tr style=\"text-align: right;\">\n",
       "      <th></th>\n",
       "      <th>note_id</th>\n",
       "      <th>chemical_1</th>\n",
       "      <th>chemical_2</th>\n",
       "      <th>physics_1</th>\n",
       "      <th>physics_2</th>\n",
       "      <th>matematic_1</th>\n",
       "      <th>matematic_2</th>\n",
       "      <th>history_1</th>\n",
       "      <th>history_2</th>\n",
       "      <th>portuguese_1</th>\n",
       "      <th>portuguese_2</th>\n",
       "    </tr>\n",
       "  </thead>\n",
       "  <tbody>\n",
       "    <tr>\n",
       "      <th>0</th>\n",
       "      <td>1.0</td>\n",
       "      <td>8.9</td>\n",
       "      <td>7.7</td>\n",
       "      <td>6.4</td>\n",
       "      <td>8.7</td>\n",
       "      <td>5.6</td>\n",
       "      <td>9.0</td>\n",
       "      <td>8.7</td>\n",
       "      <td>6.5</td>\n",
       "      <td>7.7</td>\n",
       "      <td>6.3</td>\n",
       "    </tr>\n",
       "    <tr>\n",
       "      <th>1</th>\n",
       "      <td>2.0</td>\n",
       "      <td>6.9</td>\n",
       "      <td>7.7</td>\n",
       "      <td>6.4</td>\n",
       "      <td>4.7</td>\n",
       "      <td>5.6</td>\n",
       "      <td>9.0</td>\n",
       "      <td>6.6</td>\n",
       "      <td>6.5</td>\n",
       "      <td>7.7</td>\n",
       "      <td>6.3</td>\n",
       "    </tr>\n",
       "    <tr>\n",
       "      <th>2</th>\n",
       "      <td>3.0</td>\n",
       "      <td>5.3</td>\n",
       "      <td>7.8</td>\n",
       "      <td>6.8</td>\n",
       "      <td>7.7</td>\n",
       "      <td>9.6</td>\n",
       "      <td>9.0</td>\n",
       "      <td>4.7</td>\n",
       "      <td>6.5</td>\n",
       "      <td>7.1</td>\n",
       "      <td>6.3</td>\n",
       "    </tr>\n",
       "    <tr>\n",
       "      <th>3</th>\n",
       "      <td>4.0</td>\n",
       "      <td>8.9</td>\n",
       "      <td>7.7</td>\n",
       "      <td>6.4</td>\n",
       "      <td>8.7</td>\n",
       "      <td>5.6</td>\n",
       "      <td>7.0</td>\n",
       "      <td>8.7</td>\n",
       "      <td>6.5</td>\n",
       "      <td>7.7</td>\n",
       "      <td>6.3</td>\n",
       "    </tr>\n",
       "    <tr>\n",
       "      <th>4</th>\n",
       "      <td>5.0</td>\n",
       "      <td>3.9</td>\n",
       "      <td>7.4</td>\n",
       "      <td>6.4</td>\n",
       "      <td>5.7</td>\n",
       "      <td>5.6</td>\n",
       "      <td>8.0</td>\n",
       "      <td>9.7</td>\n",
       "      <td>7.8</td>\n",
       "      <td>9.7</td>\n",
       "      <td>6.3</td>\n",
       "    </tr>\n",
       "    <tr>\n",
       "      <th>5</th>\n",
       "      <td>6.0</td>\n",
       "      <td>8.9</td>\n",
       "      <td>7.7</td>\n",
       "      <td>6.4</td>\n",
       "      <td>3.7</td>\n",
       "      <td>5.6</td>\n",
       "      <td>9.0</td>\n",
       "      <td>8.7</td>\n",
       "      <td>6.5</td>\n",
       "      <td>7.7</td>\n",
       "      <td>6.3</td>\n",
       "    </tr>\n",
       "    <tr>\n",
       "      <th>6</th>\n",
       "      <td>7.0</td>\n",
       "      <td>8.3</td>\n",
       "      <td>7.8</td>\n",
       "      <td>6.4</td>\n",
       "      <td>6.7</td>\n",
       "      <td>6.9</td>\n",
       "      <td>5.0</td>\n",
       "      <td>9.7</td>\n",
       "      <td>6.5</td>\n",
       "      <td>10.0</td>\n",
       "      <td>6.3</td>\n",
       "    </tr>\n",
       "    <tr>\n",
       "      <th>7</th>\n",
       "      <td>8.0</td>\n",
       "      <td>7.9</td>\n",
       "      <td>7.7</td>\n",
       "      <td>6.4</td>\n",
       "      <td>7.7</td>\n",
       "      <td>5.6</td>\n",
       "      <td>9.0</td>\n",
       "      <td>8.7</td>\n",
       "      <td>6.5</td>\n",
       "      <td>7.7</td>\n",
       "      <td>6.3</td>\n",
       "    </tr>\n",
       "    <tr>\n",
       "      <th>8</th>\n",
       "      <td>9.0</td>\n",
       "      <td>5.9</td>\n",
       "      <td>7.7</td>\n",
       "      <td>5.4</td>\n",
       "      <td>8.7</td>\n",
       "      <td>5.6</td>\n",
       "      <td>6.0</td>\n",
       "      <td>2.7</td>\n",
       "      <td>6.5</td>\n",
       "      <td>7.7</td>\n",
       "      <td>6.3</td>\n",
       "    </tr>\n",
       "    <tr>\n",
       "      <th>9</th>\n",
       "      <td>10.0</td>\n",
       "      <td>9.9</td>\n",
       "      <td>7.7</td>\n",
       "      <td>6.4</td>\n",
       "      <td>9.7</td>\n",
       "      <td>5.6</td>\n",
       "      <td>9.0</td>\n",
       "      <td>8.7</td>\n",
       "      <td>6.5</td>\n",
       "      <td>7.7</td>\n",
       "      <td>6.3</td>\n",
       "    </tr>\n",
       "  </tbody>\n",
       "</table>\n",
       "</div>"
      ],
      "text/plain": [
       "   note_id  chemical_1  chemical_2  physics_1  physics_2  matematic_1  \\\n",
       "0      1.0         8.9         7.7        6.4        8.7          5.6   \n",
       "1      2.0         6.9         7.7        6.4        4.7          5.6   \n",
       "2      3.0         5.3         7.8        6.8        7.7          9.6   \n",
       "3      4.0         8.9         7.7        6.4        8.7          5.6   \n",
       "4      5.0         3.9         7.4        6.4        5.7          5.6   \n",
       "5      6.0         8.9         7.7        6.4        3.7          5.6   \n",
       "6      7.0         8.3         7.8        6.4        6.7          6.9   \n",
       "7      8.0         7.9         7.7        6.4        7.7          5.6   \n",
       "8      9.0         5.9         7.7        5.4        8.7          5.6   \n",
       "9     10.0         9.9         7.7        6.4        9.7          5.6   \n",
       "\n",
       "   matematic_2  history_1  history_2  portuguese_1  portuguese_2  \n",
       "0          9.0        8.7        6.5           7.7           6.3  \n",
       "1          9.0        6.6        6.5           7.7           6.3  \n",
       "2          9.0        4.7        6.5           7.1           6.3  \n",
       "3          7.0        8.7        6.5           7.7           6.3  \n",
       "4          8.0        9.7        7.8           9.7           6.3  \n",
       "5          9.0        8.7        6.5           7.7           6.3  \n",
       "6          5.0        9.7        6.5          10.0           6.3  \n",
       "7          9.0        8.7        6.5           7.7           6.3  \n",
       "8          6.0        2.7        6.5           7.7           6.3  \n",
       "9          9.0        8.7        6.5           7.7           6.3  "
      ]
     },
     "execution_count": 10,
     "metadata": {},
     "output_type": "execute_result"
    }
   ],
   "source": [
    "df"
   ]
  },
  {
   "cell_type": "code",
   "execution_count": 11,
   "metadata": {},
   "outputs": [
    {
     "data": {
      "text/plain": [
       "8.3"
      ]
     },
     "execution_count": 11,
     "metadata": {},
     "output_type": "execute_result"
    }
   ],
   "source": [
    "chemical_average=(df['chemical_1']+df['chemical_2'])/2\n",
    "physics_average = (df['physics_1']+df['physics_2'])/2\n",
    "matematic_average = (df['matematic_1']+df['matematic_2'])/2\n",
    "history_average = (df['history_1']+df['history_2'])/2\n",
    "portuguese_average = (df['portuguese_1']+df['portuguese_2'])/2\n",
    "round(float(chemical_average[0]),1)"
   ]
  },
  {
   "cell_type": "code",
   "execution_count": 12,
   "metadata": {},
   "outputs": [
    {
     "name": "stdout",
     "output_type": "stream",
     "text": [
      "finally\n"
     ]
    }
   ],
   "source": [
    "values=[]\n",
    "index=0\n",
    "try:\n",
    "    conn = psycopg2.connect(host = hostname, password = pwd, database = database, user=username, port = port_id)\n",
    "    cur = conn.cursor()\n",
    "    insert_scripty = '''INSERT INTO notes_average(notes_average_id,\n",
    "    Chemical_average,\n",
    "    Physics_average,\n",
    "    Matematic_average,\n",
    "    History_average,\n",
    "    Portuguese_average) VALUES(%s,%s,%s,%s,%s,%s)'''\n",
    "    for i in  range(len(chemical_average)):\n",
    "        index = i +1\n",
    "        values.append((index,\n",
    "                       round(float(chemical_average[i]),1),\n",
    "                       round(float(physics_average[i]),1),\n",
    "                       round(float(matematic_average[i]),1),\n",
    "                       round(float(history_average[i]),1),\n",
    "                       round(float(portuguese_average[i]),1)))\n",
    "    cur.executemany(insert_scripty,values)\n",
    "    conn.commit()\n",
    "except Exception as error:\n",
    "    print(error)\n",
    "finally:\n",
    "    if cur is not None:\n",
    "        cur.close()\n",
    "    if conn is not None:\n",
    "        conn.close()\n",
    "    print('finally')"
   ]
  },
  {
   "cell_type": "code",
   "execution_count": 13,
   "metadata": {},
   "outputs": [
    {
     "data": {
      "text/plain": [
       "['approved',\n",
       " 'reproved',\n",
       " 'approved',\n",
       " 'approved',\n",
       " 'approved',\n",
       " 'approved',\n",
       " 'approved',\n",
       " 'approved',\n",
       " 'reproved',\n",
       " 'approved']"
      ]
     },
     "execution_count": 13,
     "metadata": {},
     "output_type": "execute_result"
    }
   ],
   "source": [
    "average_total =round(((chemical_average+history_average+matematic_average+physics_average+portuguese_average)/5),1)\n",
    "average_total\n",
    "situation = ['approved' if average>=7.0 else 'reproved' for average in average_total]\n",
    "situation"
   ]
  },
  {
   "cell_type": "code",
   "execution_count": 14,
   "metadata": {},
   "outputs": [
    {
     "name": "stdout",
     "output_type": "stream",
     "text": [
      "finally\n"
     ]
    }
   ],
   "source": [
    "value_average=[]\n",
    "index=0\n",
    "try:\n",
    "    conn = psycopg2.connect(host=hostname,user=username,password=pwd,port=port_id,database=database)\n",
    "    cur = conn.cursor()\n",
    "    update_scripty = '''UPDATE students SET average=%s WHERE id=%s'''\n",
    "    for i in range(len(average_total)):\n",
    "        index=i+1\n",
    "        value_average.append((float(average_total[i]),index))\n",
    "    cur.executemany(update_scripty,value_average)\n",
    "    conn.commit()\n",
    "except Exception as error:\n",
    "    print(error)\n",
    "finally:\n",
    "    print('finally')"
   ]
  },
  {
   "cell_type": "markdown",
   "metadata": {},
   "source": [
    "ADD COLUMN INTO STUDENTS TABLE"
   ]
  },
  {
   "cell_type": "code",
   "execution_count": 15,
   "metadata": {},
   "outputs": [
    {
     "name": "stdout",
     "output_type": "stream",
     "text": [
      "finally\n"
     ]
    }
   ],
   "source": [
    "try:\n",
    "    conn = psycopg2.connect(host=hostname,database=database,port=port_id,password=pwd,user=username)\n",
    "    cur = conn.cursor()\n",
    "    add_column = '''ALTER TABLE students ADD COLUMN situation varchar'''\n",
    "    cur.execute(add_column)\n",
    "    conn.commit()\n",
    "    update_scripty = '''UPDATE students SET situation = CASE \n",
    "    WHEN average >= 7.0 THEN \n",
    "    'approved' \n",
    "    ELSE 'reproved' \n",
    "     END '''\n",
    "    cur.execute(update_scripty)\n",
    "    conn.commit()\n",
    "except Exception as error:\n",
    "    print(error)\n",
    "finally:\n",
    "    if cur is not None:\n",
    "        cur.close()\n",
    "    if conn is not None:\n",
    "        conn.close()\n",
    "    print('finally')"
   ]
  },
  {
   "cell_type": "code",
   "execution_count": 21,
   "metadata": {},
   "outputs": [
    {
     "data": {
      "text/html": [
       "<div>\n",
       "<style scoped>\n",
       "    .dataframe tbody tr th:only-of-type {\n",
       "        vertical-align: middle;\n",
       "    }\n",
       "\n",
       "    .dataframe tbody tr th {\n",
       "        vertical-align: top;\n",
       "    }\n",
       "\n",
       "    .dataframe thead th {\n",
       "        text-align: right;\n",
       "    }\n",
       "</style>\n",
       "<table border=\"1\" class=\"dataframe\">\n",
       "  <thead>\n",
       "    <tr style=\"text-align: right;\">\n",
       "      <th></th>\n",
       "      <th>id</th>\n",
       "      <th>name</th>\n",
       "      <th>age</th>\n",
       "      <th>average</th>\n",
       "      <th>situation</th>\n",
       "    </tr>\n",
       "  </thead>\n",
       "  <tbody>\n",
       "    <tr>\n",
       "      <th>0</th>\n",
       "      <td>1.0</td>\n",
       "      <td>Pedro Lemos</td>\n",
       "      <td>17</td>\n",
       "      <td>7.6</td>\n",
       "      <td>approved</td>\n",
       "    </tr>\n",
       "    <tr>\n",
       "      <th>1</th>\n",
       "      <td>2.0</td>\n",
       "      <td>Ingrid Violeta</td>\n",
       "      <td>17</td>\n",
       "      <td>6.7</td>\n",
       "      <td>reproved</td>\n",
       "    </tr>\n",
       "    <tr>\n",
       "      <th>2</th>\n",
       "      <td>3.0</td>\n",
       "      <td>Jorge Barretos</td>\n",
       "      <td>19</td>\n",
       "      <td>7.1</td>\n",
       "      <td>approved</td>\n",
       "    </tr>\n",
       "    <tr>\n",
       "      <th>3</th>\n",
       "      <td>4.0</td>\n",
       "      <td>Pedro Chagas</td>\n",
       "      <td>19</td>\n",
       "      <td>7.4</td>\n",
       "      <td>approved</td>\n",
       "    </tr>\n",
       "    <tr>\n",
       "      <th>4</th>\n",
       "      <td>5.0</td>\n",
       "      <td>Erica Guiantes</td>\n",
       "      <td>20</td>\n",
       "      <td>7.0</td>\n",
       "      <td>approved</td>\n",
       "    </tr>\n",
       "    <tr>\n",
       "      <th>5</th>\n",
       "      <td>6.0</td>\n",
       "      <td>João Sobral</td>\n",
       "      <td>17</td>\n",
       "      <td>7.0</td>\n",
       "      <td>approved</td>\n",
       "    </tr>\n",
       "    <tr>\n",
       "      <th>6</th>\n",
       "      <td>7.0</td>\n",
       "      <td>Liana Rosas</td>\n",
       "      <td>19</td>\n",
       "      <td>7.4</td>\n",
       "      <td>approved</td>\n",
       "    </tr>\n",
       "    <tr>\n",
       "      <th>7</th>\n",
       "      <td>8.0</td>\n",
       "      <td>Jorge Guilherme Junior</td>\n",
       "      <td>20</td>\n",
       "      <td>7.4</td>\n",
       "      <td>approved</td>\n",
       "    </tr>\n",
       "    <tr>\n",
       "      <th>8</th>\n",
       "      <td>9.0</td>\n",
       "      <td>Pedro Freitas</td>\n",
       "      <td>18</td>\n",
       "      <td>6.2</td>\n",
       "      <td>reproved</td>\n",
       "    </tr>\n",
       "    <tr>\n",
       "      <th>9</th>\n",
       "      <td>10.0</td>\n",
       "      <td>Helana Oliveira</td>\n",
       "      <td>17</td>\n",
       "      <td>7.8</td>\n",
       "      <td>approved</td>\n",
       "    </tr>\n",
       "  </tbody>\n",
       "</table>\n",
       "</div>"
      ],
      "text/plain": [
       "     id                    name  age  average situation\n",
       "0   1.0             Pedro Lemos   17      7.6  approved\n",
       "1   2.0          Ingrid Violeta   17      6.7  reproved\n",
       "2   3.0          Jorge Barretos   19      7.1  approved\n",
       "3   4.0            Pedro Chagas   19      7.4  approved\n",
       "4   5.0          Erica Guiantes   20      7.0  approved\n",
       "5   6.0             João Sobral   17      7.0  approved\n",
       "6   7.0             Liana Rosas   19      7.4  approved\n",
       "7   8.0  Jorge Guilherme Junior   20      7.4  approved\n",
       "8   9.0           Pedro Freitas   18      6.2  reproved\n",
       "9  10.0         Helana Oliveira   17      7.8  approved"
      ]
     },
     "execution_count": 21,
     "metadata": {},
     "output_type": "execute_result"
    }
   ],
   "source": [
    "engine = create_engine(f'postgresql+psycopg2://{username}:{pwd}@{hostname}:{port_id}/{database}')\n",
    "query = 'SELECT * FROM students '\n",
    "df_students = pd.read_sql(query,engine)\n",
    "df_students"
   ]
  },
  {
   "cell_type": "code",
   "execution_count": 28,
   "metadata": {},
   "outputs": [
    {
     "data": {
      "image/png": "[encoded data removed]",
      "text/plain": [
       "<Figure size 800x600 with 1 Axes>"
      ]
     },
     "metadata": {},
     "output_type": "display_data"
    }
   ],
   "source": [
    "import matplotlib.pyplot as plt\n",
    "situation_counts = df_students['situation'].value_counts()\n",
    "plt.figure(figsize=(8, 6))\n",
    "plt.pie(situation_counts, labels=situation_counts.index, autopct='%1.1f%%', startangle=140)\n",
    "plt.title('Proportions of situations of the students')\n",
    "plt.show()"
   ]
  },
  {
   "cell_type": "code",
   "execution_count": 30,
   "metadata": {},
   "outputs": [
    {
     "data": {
      "text/html": [
       "<div>\n",
       "<style scoped>\n",
       "    .dataframe tbody tr th:only-of-type {\n",
       "        vertical-align: middle;\n",
       "    }\n",
       "\n",
       "    .dataframe tbody tr th {\n",
       "        vertical-align: top;\n",
       "    }\n",
       "\n",
       "    .dataframe thead th {\n",
       "        text-align: right;\n",
       "    }\n",
       "</style>\n",
       "<table border=\"1\" class=\"dataframe\">\n",
       "  <thead>\n",
       "    <tr style=\"text-align: right;\">\n",
       "      <th></th>\n",
       "      <th>id</th>\n",
       "      <th>name</th>\n",
       "      <th>age</th>\n",
       "      <th>average</th>\n",
       "      <th>situation</th>\n",
       "    </tr>\n",
       "  </thead>\n",
       "  <tbody>\n",
       "    <tr>\n",
       "      <th>9</th>\n",
       "      <td>10.0</td>\n",
       "      <td>Helana Oliveira</td>\n",
       "      <td>17</td>\n",
       "      <td>7.8</td>\n",
       "      <td>approved</td>\n",
       "    </tr>\n",
       "    <tr>\n",
       "      <th>0</th>\n",
       "      <td>1.0</td>\n",
       "      <td>Pedro Lemos</td>\n",
       "      <td>17</td>\n",
       "      <td>7.6</td>\n",
       "      <td>approved</td>\n",
       "    </tr>\n",
       "    <tr>\n",
       "      <th>7</th>\n",
       "      <td>8.0</td>\n",
       "      <td>Jorge Guilherme Junior</td>\n",
       "      <td>20</td>\n",
       "      <td>7.4</td>\n",
       "      <td>approved</td>\n",
       "    </tr>\n",
       "    <tr>\n",
       "      <th>3</th>\n",
       "      <td>4.0</td>\n",
       "      <td>Pedro Chagas</td>\n",
       "      <td>19</td>\n",
       "      <td>7.4</td>\n",
       "      <td>approved</td>\n",
       "    </tr>\n",
       "    <tr>\n",
       "      <th>6</th>\n",
       "      <td>7.0</td>\n",
       "      <td>Liana Rosas</td>\n",
       "      <td>19</td>\n",
       "      <td>7.4</td>\n",
       "      <td>approved</td>\n",
       "    </tr>\n",
       "    <tr>\n",
       "      <th>2</th>\n",
       "      <td>3.0</td>\n",
       "      <td>Jorge Barretos</td>\n",
       "      <td>19</td>\n",
       "      <td>7.1</td>\n",
       "      <td>approved</td>\n",
       "    </tr>\n",
       "    <tr>\n",
       "      <th>5</th>\n",
       "      <td>6.0</td>\n",
       "      <td>João Sobral</td>\n",
       "      <td>17</td>\n",
       "      <td>7.0</td>\n",
       "      <td>approved</td>\n",
       "    </tr>\n",
       "    <tr>\n",
       "      <th>4</th>\n",
       "      <td>5.0</td>\n",
       "      <td>Erica Guiantes</td>\n",
       "      <td>20</td>\n",
       "      <td>7.0</td>\n",
       "      <td>approved</td>\n",
       "    </tr>\n",
       "    <tr>\n",
       "      <th>1</th>\n",
       "      <td>2.0</td>\n",
       "      <td>Ingrid Violeta</td>\n",
       "      <td>17</td>\n",
       "      <td>6.7</td>\n",
       "      <td>reproved</td>\n",
       "    </tr>\n",
       "    <tr>\n",
       "      <th>8</th>\n",
       "      <td>9.0</td>\n",
       "      <td>Pedro Freitas</td>\n",
       "      <td>18</td>\n",
       "      <td>6.2</td>\n",
       "      <td>reproved</td>\n",
       "    </tr>\n",
       "  </tbody>\n",
       "</table>\n",
       "</div>"
      ],
      "text/plain": [
       "     id                    name  age  average situation\n",
       "9  10.0         Helana Oliveira   17      7.8  approved\n",
       "0   1.0             Pedro Lemos   17      7.6  approved\n",
       "7   8.0  Jorge Guilherme Junior   20      7.4  approved\n",
       "3   4.0            Pedro Chagas   19      7.4  approved\n",
       "6   7.0             Liana Rosas   19      7.4  approved\n",
       "2   3.0          Jorge Barretos   19      7.1  approved\n",
       "5   6.0             João Sobral   17      7.0  approved\n",
       "4   5.0          Erica Guiantes   20      7.0  approved\n",
       "1   2.0          Ingrid Violeta   17      6.7  reproved\n",
       "8   9.0           Pedro Freitas   18      6.2  reproved"
      ]
     },
     "execution_count": 30,
     "metadata": {},
     "output_type": "execute_result"
    }
   ],
   "source": [
    "df_students.sort_values(by='average',inplace=True,ascending=False)\n",
    "df_students"
   ]
  },
  {
   "cell_type": "code",
   "execution_count": 33,
   "metadata": {},
   "outputs": [
    {
     "data": {
      "image/png": "[encoded data removed]",
      "text/plain": [
       "<Figure size 800x600 with 1 Axes>"
      ]
     },
     "metadata": {},
     "output_type": "display_data"
    }
   ],
   "source": [
    "age_situation = df_students['age'].value_counts()\n",
    "plt.figure(figsize=(8,6))\n",
    "plt.pie(age_situation,labels=age_situation.index,autopct='%1.1f%%',startangle=140)\n",
    "plt.title('Proportions of age of students')\n",
    "plt.show()"
   ]
  },
  {
   "cell_type": "code",
   "execution_count": 35,
   "metadata": {},
   "outputs": [
    {
     "data": {
      "image/png": "[encoded data removed]",
      "text/plain": [
       "<Figure size 640x480 with 1 Axes>"
      ]
     },
     "metadata": {},
     "output_type": "display_data"
    }
   ],
   "source": [
    "plt.hist(x=df_students['age'])\n",
    "plt.show()"
   ]
  },
  {
   "cell_type": "code",
   "execution_count": null,
   "metadata": {},
   "outputs": [],
   "source": []
  }
 ],
 "metadata": {
  "kernelspec": {
   "display_name": ".venv",
   "language": "python",
   "name": "python3"
  },
  "language_info": {
   "codemirror_mode": {
    "name": "ipython",
    "version": 3
   },
   "file_extension": ".py",
   "mimetype": "text/x-python",
   "name": "python",
   "nbconvert_exporter": "python",
   "pygments_lexer": "ipython3",
   "version": "3.12.7"
  }
 },
 "nbformat": 4,
 "nbformat_minor": 2
}
